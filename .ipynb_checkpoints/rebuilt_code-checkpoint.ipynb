{
 "cells": [
  {
   "cell_type": "code",
   "execution_count": 1,
   "metadata": {},
   "outputs": [],
   "source": [
    "import numpy as np\n",
    "import pandas as pd\n",
    "\n",
    "datapath = \"./data/Load_Current_Voltage_PF.xlsx\""
   ]
  },
  {
   "cell_type": "markdown",
   "metadata": {},
   "source": [
    "## Use the real dataset and apply Constrained Optimisation for solving S_r, S_x"
   ]
  },
  {
   "cell_type": "code",
   "execution_count": 87,
   "metadata": {},
   "outputs": [],
   "source": [
    "I_mag = pd.read_excel(datapath, sheet_name='Current(A)', header=None, index_col=None) \n",
    "V_mag = pd.read_excel(datapath, sheet_name='Voltage(V)', header=None, index_col=None) \n",
    "cos_ph = pd.read_excel(datapath, sheet_name='PF', header=None, index_col=None) # cos value of phase angle\n",
    "node_num = cos_ph.shape[0]"
   ]
  },
  {
   "cell_type": "code",
   "execution_count": 88,
   "metadata": {},
   "outputs": [
    {
     "data": {
      "text/plain": [
       "(9, 16384)"
      ]
     },
     "execution_count": 88,
     "metadata": {},
     "output_type": "execute_result"
    }
   ],
   "source": [
    "cos_ph.shape"
   ]
  },
  {
   "cell_type": "code",
   "execution_count": 89,
   "metadata": {},
   "outputs": [
    {
     "name": "stdout",
     "output_type": "stream",
     "text": [
      "(18, 16383)\n",
      "(9, 16383)\n"
     ]
    }
   ],
   "source": [
    "# tan_ph = np.sqrt(1-cos_ph**2)/cos_ph\n",
    "sin_ph = np.sqrt(1-cos_ph**2)\n",
    "I_real = I_mag * cos_ph\n",
    "I_react = I_mag * sin_ph\n",
    "\n",
    "\n",
    "# Compute the \"differences\" measure of Re(delta_I) --> (N x t)\n",
    "delta_I_real = I_real.diff(axis=1)\n",
    "delta_I_real.drop(columns=delta_I_real.columns[0], axis=1, inplace=True)\n",
    "# Compute the \"differences\" measure of Im(delta_I) --> (N x t)\n",
    "delta_I_react = I_react.diff(axis=1)\n",
    "delta_I_react.drop(columns=delta_I_react.columns[0], axis=1, inplace=True)\n",
    "\n",
    "# Compute the \"differences\" measure of Re(delta_V) --> (N x t)\n",
    "delta_V = V_mag.diff(axis=1)\n",
    "delta_V.drop(columns=delta_V.columns[0], axis=1, inplace=True)\n",
    "\n",
    "\n",
    "\n",
    "# concatinate real and reactive I virtically into one matrix\n",
    "delta_I = pd.concat([delta_I_real, delta_I_react], axis=0) # --> (2N x t)\n",
    "\n",
    "print(delta_I.shape)\n",
    "print(delta_V.shape)"
   ]
  },
  {
   "cell_type": "markdown",
   "metadata": {},
   "source": [
    "solve the constrained opt problem (not consider the Distance matrix inequality constriant yet !)"
   ]
  },
  {
   "cell_type": "code",
   "execution_count": 91,
   "metadata": {},
   "outputs": [],
   "source": [
    "import cvxpy as cp\n",
    "# define symmetic matrix and variable in cvxpy, check: https://stackoverflow.com/questions/70257737/create-matrix-from-vector-cvxpy-variable\n",
    "\n",
    "# assume 9 leaf nodes and only consider time step=1\n",
    "n = node_num\n",
    "\n",
    "S_r = cp.Variable((n,n), symmetric=True)\n",
    "S_x = cp.Variable((n,n), symmetric=True)\n",
    "\n",
    "constraints =[]\n",
    "\n",
    "# constraint: S_r<=0 , S_x<=0 to all its elements in equ(3)\n",
    "for row in range(n):\n",
    "    for col in range(n):\n",
    "        constraints +=[\n",
    "            S_r[row][col] <=0\n",
    "        ]\n",
    "        \n",
    "for row in range(n):\n",
    "    for col in range(n):\n",
    "        constraints +=[\n",
    "            S_x[row][col] <=0\n",
    "        ]\n",
    "        \n",
    "        \n",
    "# constraint: S_(r,ii) <= S_(r,ij) and S_(x,ii) <= S_(x,ij) to all its elements in equ(4)\n",
    "for i in range(n):\n",
    "    constraints += [\n",
    "        n*S_r[i][i] <= cp.sum(S_r[i][:]) # ex: 4*s1 <= s1 + s2 + s3 + s4\n",
    "        ]\n",
    "    \n",
    "for i in range(n):\n",
    "    constraints += [\n",
    "        n*S_x[i][i] <= cp.sum(S_x[i][:]) # ex: 4*s1 <= s1 + s2 + s3 + s4\n",
    "        ]\n",
    "\n",
    "\n",
    "\n",
    "# Build the distance matrix D_r\n",
    "diag_var_r = cp.diag(S_r) # extract the diagnal of S_r\n",
    "S_rjj = cp.vstack([diag_var_r]*n)\n",
    "S_rii = S_rjj.T\n",
    "D_r = 2*S_r - S_rii - S_rjj\n",
    "\n",
    "# Build the distance matrix D_x\n",
    "diag_var_x = cp.diag(S_x) # extract the diagnal of S_r\n",
    "S_xjj = cp.vstack([diag_var_x]*n)\n",
    "S_xii = S_xjj.T\n",
    "D_x = 2*S_x - S_xii - S_xjj\n",
    "\n",
    "\n",
    "# Distance Matrix D_r >=0 to all its elements\n",
    "for i in range(n):\n",
    "    for j in range(n):\n",
    "       constraints += [\n",
    "           D_r[i][j] >=0\n",
    "           ]\n",
    "\n",
    "# Distance Matrix D_x >=0 to all its elements\n",
    "for i in range(n):\n",
    "    for j in range(n):\n",
    "       constraints += [\n",
    "           D_x[i][j] >=0\n",
    "           ]\n",
    "       \n",
    "\n",
    "\n",
    "# Build the A_r matrix\n",
    "A_r = np.eye(n) - (1/n) * np.ones((n,n)) @ D_r @ np.eye(n) - (1/n) * np.ones((n,n))\n",
    "\n",
    "# Build the A_x matrix\n",
    "A_x = np.eye(n) - (1/n) * np.ones((n,n)) @ D_x @ np.eye(n) - (1/n) * np.ones((n,n))\n",
    "\n",
    "# constraint: \n",
    "constraints += [\n",
    "    A_r <= 0,\n",
    "    A_x <=0\n",
    "]\n",
    "\n",
    "\n",
    "# Important-- Not consider equ(9) constraint in this version yet as not sure what \"k\" in equ(9) is (ToDo)\n",
    "\n",
    "S = cp.hstack([S_r, S_x])\n",
    "\n",
    "objective = cp.Minimize(cp.sum_squares(S @ delta_I - delta_V))\n",
    "prob = cp.Problem(objective, constraints)\n",
    "prob.solve()\n",
    "\n",
    "solution = S_r.value\n"
   ]
  },
  {
   "cell_type": "code",
   "execution_count": 92,
   "metadata": {},
   "outputs": [
    {
     "name": "stdout",
     "output_type": "stream",
     "text": [
      "[[-4.48947039e-01 -1.19461884e-09 -1.49026746e-09 -9.73829655e-02\n",
      "  -2.10655473e-09 -1.43118656e-09 -1.42292903e-01 -5.89871262e-10\n",
      "  -1.34254298e-09]\n",
      " [-1.19461884e-09 -9.88766631e-01 -5.80278172e-10  2.67164314e-09\n",
      "  -1.35739387e-01  9.49635039e-11 -1.32204904e-10 -1.05667823e-01\n",
      "   1.83004356e-11]\n",
      " [-1.49026746e-09 -5.80278172e-10 -4.23568616e-01  2.89683734e-09\n",
      "  -1.06683676e-09 -1.00940795e-01 -8.12318803e-10  4.77907592e-11\n",
      "  -4.99106137e-02]\n",
      " [-9.73829655e-02  2.67164314e-09  2.89683734e-09 -4.84208259e-01\n",
      "   3.00961280e-09  3.05307502e-09 -2.65707282e-01  6.44504591e-09\n",
      "   2.68416707e-09]\n",
      " [-2.10655473e-09 -1.35739387e-01 -1.06683676e-09  3.00961280e-09\n",
      "  -4.96754804e-01 -4.99217061e-10 -9.07209509e-10 -2.71263673e-01\n",
      "  -4.73219922e-10]\n",
      " [-1.43118656e-09  9.49635039e-11 -1.00940795e-01  3.05307502e-09\n",
      "  -4.99217061e-10 -6.03743279e-01 -2.09943247e-10  3.73323583e-10\n",
      "  -2.98163725e-01]\n",
      " [-1.42292903e-01 -1.32204904e-10 -8.12318803e-10 -2.65707282e-01\n",
      "  -9.07209509e-10 -2.09943247e-10 -7.63438514e-01 -4.27052279e-10\n",
      "  -1.18263549e-10]\n",
      " [-5.89871262e-10 -1.05667823e-01  4.77907592e-11  6.44504591e-09\n",
      "  -2.71263673e-01  3.73323583e-10 -4.27052279e-10 -4.88162921e-01\n",
      "   2.45213393e-10]\n",
      " [-1.34254298e-09  1.83004356e-11 -4.99106137e-02  2.68416707e-09\n",
      "  -4.73219922e-10 -2.98163725e-01 -1.18263549e-10  2.45213393e-10\n",
      "  -6.39132476e-01]]\n"
     ]
    }
   ],
   "source": [
    "print(solution)"
   ]
  },
  {
   "cell_type": "code",
   "execution_count": 93,
   "metadata": {},
   "outputs": [
    {
     "data": {
      "text/plain": [
       "array([[0., 0., 0., 0., 0., 0., 0., 0., 0.],\n",
       "       [0., 0., 0., 0., 0., 0., 0., 0., 0.],\n",
       "       [0., 0., 0., 0., 0., 0., 0., 0., 0.],\n",
       "       [0., 0., 0., 0., 0., 0., 0., 0., 0.],\n",
       "       [0., 0., 0., 0., 0., 0., 0., 0., 0.],\n",
       "       [0., 0., 0., 0., 0., 0., 0., 0., 0.],\n",
       "       [0., 0., 0., 0., 0., 0., 0., 0., 0.],\n",
       "       [0., 0., 0., 0., 0., 0., 0., 0., 0.],\n",
       "       [0., 0., 0., 0., 0., 0., 0., 0., 0.]])"
      ]
     },
     "execution_count": 93,
     "metadata": {},
     "output_type": "execute_result"
    }
   ],
   "source": [
    "solution - solution.T # check symmetric of S_x and S_r"
   ]
  }
 ],
 "metadata": {
  "kernelspec": {
   "display_name": "Python 3 (ipykernel)",
   "language": "python",
   "name": "python3"
  },
  "language_info": {
   "codemirror_mode": {
    "name": "ipython",
    "version": 3
   },
   "file_extension": ".py",
   "mimetype": "text/x-python",
   "name": "python",
   "nbconvert_exporter": "python",
   "pygments_lexer": "ipython3",
   "version": "3.7.12"
  }
 },
 "nbformat": 4,
 "nbformat_minor": 2
}
