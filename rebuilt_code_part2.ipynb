{
 "cells": [
  {
   "cell_type": "markdown",
   "metadata": {},
   "source": [
    "\n",
    "## Section B rebuild the tree\n",
    "- Neighbor joining tree based on distance matrix referred from https://www.tenderisthebyte.com/blog/2022/08/31/neighbor-joining-trees/\n",
    "- This jupyter notebook requires a distance matrix generated from Section A\n",
    "- Other reference: https://github.com/Alirezafathian/phylogenetic_tree/blob/master/notebooks/phylogenetic_tree.ipynb\n"
   ]
  },
  {
   "cell_type": "code",
   "execution_count": 1,
   "metadata": {},
   "outputs": [],
   "source": [
    "import numpy as np\n",
    "import pandas as pd\n",
    "\n",
    "with open('D_r.npy','rb') as f:\n",
    "        D_r = np.load(f)\n",
    "with open('D_x.npy','rb') as f:\n",
    "        D_x = np.load(f)"
   ]
  },
  {
   "cell_type": "code",
   "execution_count": 2,
   "metadata": {},
   "outputs": [
    {
     "data": {
      "text/plain": [
       "[0, 1, 2, 3, 4, 5, 6, 7, 8]"
      ]
     },
     "execution_count": 2,
     "metadata": {},
     "output_type": "execute_result"
    }
   ],
   "source": [
    "K_leaf = [e for e in range(D_x.shape[0])]\n",
    "K_leaf\n",
    "\n"
   ]
  },
  {
   "cell_type": "code",
   "execution_count": 3,
   "metadata": {},
   "outputs": [
    {
     "ename": "TypeError",
     "evalue": "'dict' object is not callable",
     "output_type": "error",
     "traceback": [
      "\u001b[0;31m---------------------------------------------------------------------------\u001b[0m",
      "\u001b[0;31mTypeError\u001b[0m                                 Traceback (most recent call last)",
      "\u001b[0;32m/tmp/ipykernel_159033/4251298989.py\u001b[0m in \u001b[0;36m<module>\u001b[0;34m\u001b[0m\n\u001b[1;32m     41\u001b[0m \u001b[0;34m\u001b[0m\u001b[0m\n\u001b[1;32m     42\u001b[0m \u001b[0mr\u001b[0m \u001b[0;34m=\u001b[0m \u001b[0mnet_divergence\u001b[0m\u001b[0;34m(\u001b[0m\u001b[0mD_r\u001b[0m\u001b[0;34m,\u001b[0m \u001b[0mK_leaf\u001b[0m\u001b[0;34m)\u001b[0m\u001b[0;34m\u001b[0m\u001b[0;34m\u001b[0m\u001b[0m\n\u001b[0;32m---> 43\u001b[0;31m \u001b[0mD_adj\u001b[0m \u001b[0;34m=\u001b[0m \u001b[0madjusted_distance\u001b[0m\u001b[0;34m(\u001b[0m\u001b[0mD_r\u001b[0m\u001b[0;34m,\u001b[0m \u001b[0mK_leaf\u001b[0m\u001b[0;34m,\u001b[0m \u001b[0mr\u001b[0m\u001b[0;34m)\u001b[0m\u001b[0;34m\u001b[0m\u001b[0;34m\u001b[0m\u001b[0m\n\u001b[0m\u001b[1;32m     44\u001b[0m \u001b[0;34m\u001b[0m\u001b[0m\n",
      "\u001b[0;32m/tmp/ipykernel_159033/4251298989.py\u001b[0m in \u001b[0;36madjusted_distance\u001b[0;34m(D, K_leaf, r)\u001b[0m\n\u001b[1;32m     32\u001b[0m     \u001b[0mD_adj\u001b[0m \u001b[0;34m=\u001b[0m \u001b[0;34m{\u001b[0m\u001b[0;34m}\u001b[0m\u001b[0;34m\u001b[0m\u001b[0;34m\u001b[0m\u001b[0m\n\u001b[1;32m     33\u001b[0m     \u001b[0;32mfor\u001b[0m \u001b[0mp\u001b[0m \u001b[0;32min\u001b[0m \u001b[0mpairs\u001b[0m\u001b[0;34m:\u001b[0m\u001b[0;34m\u001b[0m\u001b[0;34m\u001b[0m\u001b[0m\n\u001b[0;32m---> 34\u001b[0;31m         \u001b[0mD_adj\u001b[0m\u001b[0;34m[\u001b[0m\u001b[0mpairs\u001b[0m\u001b[0;34m[\u001b[0m\u001b[0mp\u001b[0m\u001b[0;34m]\u001b[0m\u001b[0;34m]\u001b[0m \u001b[0;34m=\u001b[0m \u001b[0mD\u001b[0m\u001b[0;34m[\u001b[0m\u001b[0mp\u001b[0m\u001b[0;34m[\u001b[0m\u001b[0;36m0\u001b[0m\u001b[0;34m]\u001b[0m\u001b[0;34m]\u001b[0m\u001b[0;34m[\u001b[0m\u001b[0mp\u001b[0m\u001b[0;34m[\u001b[0m\u001b[0;36m1\u001b[0m\u001b[0;34m]\u001b[0m\u001b[0;34m]\u001b[0m \u001b[0;34m-\u001b[0m \u001b[0;34m(\u001b[0m\u001b[0mr\u001b[0m\u001b[0;34m[\u001b[0m\u001b[0mp\u001b[0m\u001b[0;34m[\u001b[0m\u001b[0;36m0\u001b[0m\u001b[0;34m]\u001b[0m\u001b[0;34m]\u001b[0m \u001b[0;34m+\u001b[0m \u001b[0mr\u001b[0m\u001b[0;34m(\u001b[0m\u001b[0mp\u001b[0m\u001b[0;34m[\u001b[0m\u001b[0;36m1\u001b[0m\u001b[0;34m]\u001b[0m\u001b[0;34m)\u001b[0m\u001b[0;34m)\u001b[0m\u001b[0;34m\u001b[0m\u001b[0;34m\u001b[0m\u001b[0m\n\u001b[0m\u001b[1;32m     35\u001b[0m \u001b[0;34m\u001b[0m\u001b[0m\n\u001b[1;32m     36\u001b[0m     \u001b[0;32mreturn\u001b[0m \u001b[0mD_adj\u001b[0m\u001b[0;34m\u001b[0m\u001b[0;34m\u001b[0m\u001b[0m\n",
      "\u001b[0;31mTypeError\u001b[0m: 'dict' object is not callable"
     ]
    }
   ],
   "source": [
    "import itertools\n",
    "\n",
    "\n",
    "\n",
    "\n",
    "def net_divergence(D, K_leaf):\n",
    "    # Net divergence r for a node i with the rest of all active nodes in K_leaf\n",
    "    # D is the latest distance matrix\n",
    "    # K_leaf : the set of active leaf nodes\n",
    "    \n",
    "    # output: dict contains node name and its corresponding net divergence value.\n",
    "    \n",
    "    L = float(len(K_leaf)) \n",
    "    r = {}\n",
    "    for i in K_leaf:\n",
    "        # compute i's net divergence w.r.t. all other nodes\n",
    "        r[i] = 0\n",
    "        for j in K_leaf:\n",
    "            if  i == j: # do not compute divergence of i with itself\n",
    "                break\n",
    "            else:\n",
    "                r[i] += D[i][j]\n",
    "            r[i] = (1/(L-2)) *r[i]\n",
    "    \n",
    "    return r\n",
    "    \n",
    "\n",
    "\n",
    "def adjusted_distance(D, K_leaf, r):\n",
    "    # get all possible 2 nodes pairs from the active leaf list.\n",
    "    pairs = list(itertools.combinations(K_leaf, 2)) # refer to: https://stackoverflow.com/questions/20762574/combinations-with-two-elements\n",
    "    D_adj = {}\n",
    "    for p in pairs:\n",
    "        D_adj[pairs[p]] = D[p[0]][p[1]] - (r[p[0]] + r(p[1]))\n",
    "    \n",
    "    return D_adj\n",
    "    \n",
    "\n",
    "\n",
    "# Below is the script\n",
    "  \n",
    "r = net_divergence(D_r, K_leaf)\n",
    "D_adj = adjusted_distance(D_r, K_leaf, r)\n",
    "    "
   ]
  },
  {
   "cell_type": "code",
   "execution_count": null,
   "metadata": {},
   "outputs": [],
   "source": [
    "      \n",
    "\n"
   ]
  },
  {
   "cell_type": "code",
   "execution_count": 41,
   "metadata": {},
   "outputs": [
    {
     "name": "stdout",
     "output_type": "stream",
     "text": [
      "(0, 2)\n",
      "(0, 5)\n",
      "(2, 5)\n"
     ]
    }
   ],
   "source": [
    "\n",
    "a = [0,2,5]\n",
    "import itertools\n",
    "pairs = list(itertools.combinations(a, 2))\n",
    "for p in pairs:\n",
    "    print(p)"
   ]
  },
  {
   "cell_type": "code",
   "execution_count": null,
   "metadata": {},
   "outputs": [],
   "source": []
  }
 ],
 "metadata": {
  "kernelspec": {
   "display_name": "reza_env",
   "language": "python",
   "name": "python3"
  },
  "language_info": {
   "codemirror_mode": {
    "name": "ipython",
    "version": 3
   },
   "file_extension": ".py",
   "mimetype": "text/x-python",
   "name": "python",
   "nbconvert_exporter": "python",
   "pygments_lexer": "ipython3",
   "version": "3.7.12"
  }
 },
 "nbformat": 4,
 "nbformat_minor": 2
}
