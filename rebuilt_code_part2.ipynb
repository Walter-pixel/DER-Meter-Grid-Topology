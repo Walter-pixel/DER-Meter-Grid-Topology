{
 "cells": [
  {
   "cell_type": "markdown",
   "metadata": {},
   "source": [
    "\n",
    "## Section B rebuild the tree\n",
    "- Neighbor joining tree based on distance matrix referred from https://www.tenderisthebyte.com/blog/2022/08/31/neighbor-joining-trees/\n",
    "- This jupyter notebook requires a distance matrix generated from Section A\n",
    "- Other reference: https://github.com/Alirezafathian/phylogenetic_tree/blob/master/notebooks/phylogenetic_tree.ipynb\n"
   ]
  },
  {
   "cell_type": "code",
   "execution_count": 1,
   "metadata": {},
   "outputs": [],
   "source": [
    "import numpy as np\n",
    "import pandas as pd\n",
    "\n",
    "with open('D_r.npy','rb') as f:\n",
    "        D_r = np.load(f)\n",
    "with open('D_x.npy','rb') as f:\n",
    "        D_x = np.load(f)"
   ]
  },
  {
   "cell_type": "code",
   "execution_count": 2,
   "metadata": {},
   "outputs": [
    {
     "data": {
      "text/plain": [
       "[0, 1, 2, 3, 4, 5, 6, 7, 8]"
      ]
     },
     "execution_count": 2,
     "metadata": {},
     "output_type": "execute_result"
    }
   ],
   "source": [
    "K_leaf = [e for e in range(D_x.shape[0])]\n",
    "K_leaf\n",
    "\n"
   ]
  },
  {
   "cell_type": "code",
   "execution_count": null,
   "metadata": {},
   "outputs": [],
   "source": [
    "import itertools\n",
    "\n",
    "\n",
    "\n",
    "\n",
    "def net_divergence(D, K_leaf):\n",
    "    # Net divergence r for a node i with the rest of all active nodes in K_leaf\n",
    "    # D is the latest distance matrix\n",
    "    # K_leaf : the set of active leaf nodes\n",
    "    \n",
    "    # output: dict contains node name and its corresponding net divergence value.\n",
    "    \n",
    "    L = float(len(K_leaf)) \n",
    "    r = {}\n",
    "    for i in K_leaf:\n",
    "        # compute i's net divergence w.r.t. all other nodes\n",
    "        r[i] = 0\n",
    "        for j in K_leaf:\n",
    "            if  i == j: # do not compute divergence of i with itself\n",
    "                break\n",
    "            else:\n",
    "                r[i] += D[i][j]\n",
    "            r[i] = (1/(L-2)) *r[i]\n",
    "    \n",
    "    return r\n",
    "    \n",
    "\n",
    "\n",
    "def adjusted_distance(D, K_leaf, r):\n",
    "    # get all possible 2 nodes pairs from the active leaf list.\n",
    "    pairs = list(itertools.combinations(K_leaf, 2)) # refer to: https://stackoverflow.com/questions/20762574/combinations-with-two-elements\n",
    "    D_adj = {}\n",
    "    for p in pairs:\n",
    "        D_adj[pairs[p]] = D[p[0]][p[1]] - (r[p[0]] + r(p[1]))\n",
    "    \n",
    "    return D_adj\n",
    "    \n",
    "\n",
    "\n",
    "# Below is the script\n",
    "  \n",
    "r = net_divergence(D_r, K_leaf)\n",
    "D_adj = adjusted_distance(D_r, K_leaf, r)\n",
    "    "
   ]
  },
  {
   "cell_type": "code",
   "execution_count": null,
   "metadata": {},
   "outputs": [],
   "source": [
    "      \n",
    "\n"
   ]
  },
  {
   "cell_type": "code",
   "execution_count": 41,
   "metadata": {},
   "outputs": [
    {
     "name": "stdout",
     "output_type": "stream",
     "text": [
      "(0, 2)\n",
      "(0, 5)\n",
      "(2, 5)\n"
     ]
    }
   ],
   "source": [
    "\n",
    "a = [0,2,5]\n",
    "import itertools\n",
    "pairs = list(itertools.combinations(a, 2))\n",
    "for p in pairs:\n",
    "    print(p)"
   ]
  },
  {
   "cell_type": "code",
   "execution_count": 6,
   "metadata": {},
   "outputs": [
    {
     "data": {
      "image/png": "[encoded data removed]",
      "text/plain": [
       "<Figure size 640x480 with 1 Axes>"
      ]
     },
     "metadata": {},
     "output_type": "display_data"
    }
   ],
   "source": [
    "import matplotlib.pyplot as plt\n",
    "import networkx as nx\n",
    "\n",
    "G = nx.Graph()\n",
    "\n",
    "G.add_edge(0, 1, weight=0.6)\n",
    "G.add_edge(0, \"c\", weight=0.2)\n",
    "G.add_edge(\"c\", \"d\", weight=0.1)\n",
    "G.add_edge(\"c\", \"e\", weight=0.7)\n",
    "G.add_edge(\"c\", \"f\", weight=0.9)\n",
    "G.add_edge(\"a\", \"d\", weight=0.3)\n",
    "\n",
    "elarge = [(u, v) for (u, v, d) in G.edges(data=True) if d[\"weight\"] > 0.5]\n",
    "esmall = [(u, v) for (u, v, d) in G.edges(data=True) if d[\"weight\"] <= 0.5]\n",
    "\n",
    "pos = nx.spring_layout(G, seed=7)  # positions for all nodes - seed for reproducibility\n",
    "\n",
    "# nodes\n",
    "nx.draw_networkx_nodes(G, pos, node_size=700)\n",
    "\n",
    "# edges\n",
    "nx.draw_networkx_edges(G, pos, edgelist=elarge, width=6)\n",
    "nx.draw_networkx_edges(\n",
    "    G, pos, edgelist=esmall, width=6, alpha=0.5, edge_color=\"b\", style=\"dashed\"\n",
    ")\n",
    "\n",
    "# node labels\n",
    "nx.draw_networkx_labels(G, pos, font_size=20, font_family=\"sans-serif\")\n",
    "# edge weight labels\n",
    "edge_labels = nx.get_edge_attributes(G, \"weight\")\n",
    "nx.draw_networkx_edge_labels(G, pos, edge_labels)\n",
    "\n",
    "ax = plt.gca()\n",
    "ax.margins(0.08)\n",
    "plt.axis(\"off\")\n",
    "plt.tight_layout()\n",
    "plt.show()"
   ]
  },
  {
   "cell_type": "code",
   "execution_count": null,
   "metadata": {},
   "outputs": [],
   "source": []
  }
 ],
 "metadata": {
  "kernelspec": {
   "display_name": "reza_env",
   "language": "python",
   "name": "python3"
  },
  "language_info": {
   "codemirror_mode": {
    "name": "ipython",
    "version": 3
   },
   "file_extension": ".py",
   "mimetype": "text/x-python",
   "name": "python",
   "nbconvert_exporter": "python",
   "pygments_lexer": "ipython3",
   "version": "3.7.12"
  }
 },
 "nbformat": 4,
 "nbformat_minor": 2
}
