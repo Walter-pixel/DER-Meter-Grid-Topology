{
 "cells": [
  {
   "cell_type": "code",
   "execution_count": 1,
   "metadata": {},
   "outputs": [],
   "source": [
    "import numpy as np\n",
    "import pandas as pd\n",
    "\n",
    "datapath = \"./data/Load_Current_Voltage_PF.xlsx\"\n"
   ]
  },
  {
   "cell_type": "markdown",
   "metadata": {},
   "source": [
    "## Use the real dataset and apply Constrained Optimisation for solving S_r, S_x"
   ]
  },
  {
   "cell_type": "code",
   "execution_count": 2,
   "metadata": {},
   "outputs": [],
   "source": [
    "I_mag = pd.read_excel(datapath, sheet_name='Current(A)', header=None, index_col=None) \n",
    "V_mag = pd.read_excel(datapath, sheet_name='Voltage(V)', header=None, index_col=None) \n",
    "cos_ph = pd.read_excel(datapath, sheet_name='PF', header=None, index_col=None) # cos value of phase angle\n",
    "node_num = cos_ph.shape[0]"
   ]
  },
  {
   "cell_type": "code",
   "execution_count": 3,
   "metadata": {},
   "outputs": [
    {
     "data": {
      "text/plain": [
       "(9, 16384)"
      ]
     },
     "execution_count": 3,
     "metadata": {},
     "output_type": "execute_result"
    }
   ],
   "source": [
    "cos_ph.shape\n"
   ]
  },
  {
   "cell_type": "code",
   "execution_count": 4,
   "metadata": {},
   "outputs": [
    {
     "name": "stdout",
     "output_type": "stream",
     "text": [
      "(18, 16383)\n",
      "(9, 16383)\n"
     ]
    }
   ],
   "source": [
    "# tan_ph = np.sqrt(1-cos_ph**2)/cos_ph\n",
    "sin_ph = np.sqrt(1-cos_ph**2)\n",
    "I_real = I_mag * cos_ph\n",
    "I_react = I_mag * sin_ph\n",
    "\n",
    "\n",
    "# Compute the \"differences\" measure of Re(delta_I) --> (N x t)\n",
    "delta_I_real = I_real.diff(axis=1)\n",
    "delta_I_real.drop(columns=delta_I_real.columns[0], axis=1, inplace=True)\n",
    "# Compute the \"differences\" measure of Im(delta_I) --> (N x t)\n",
    "delta_I_react = I_react.diff(axis=1)\n",
    "delta_I_react.drop(columns=delta_I_react.columns[0], axis=1, inplace=True)\n",
    "\n",
    "# Compute the \"differences\" measure of Re(delta_V) --> (N x t)\n",
    "delta_V = V_mag.diff(axis=1)\n",
    "delta_V.drop(columns=delta_V.columns[0], axis=1, inplace=True)\n",
    "\n",
    "\n",
    "\n",
    "# concatinate real and reactive I virtically into one matrix\n",
    "delta_I = pd.concat([delta_I_real, delta_I_react], axis=0) # --> (2N x t)\n",
    "\n",
    "print(delta_I.shape)\n",
    "print(delta_V.shape)"
   ]
  },
  {
   "cell_type": "markdown",
   "metadata": {},
   "source": [
    "solve the constrained opt problem (not consider the Distance matrix inequality constriant yet !)"
   ]
  },
  {
   "cell_type": "code",
   "execution_count": 5,
   "metadata": {},
   "outputs": [
    {
     "name": "stdout",
     "output_type": "stream",
     "text": [
      "===============================================================================\n",
      "                                     CVXPY                                     \n",
      "                                     v1.2.1                                    \n",
      "===============================================================================\n",
      "(CVXPY) May 15 01:56:43 PM: Your problem has 162 variables, 344 constraints, and 0 parameters.\n",
      "(CVXPY) May 15 01:56:43 PM: It is compliant with the following grammars: DCP, DQCP\n",
      "(CVXPY) May 15 01:56:43 PM: (If you need to solve this problem multiple times, but with different data, consider using parameters.)\n",
      "(CVXPY) May 15 01:56:43 PM: CVXPY will first compile your problem; then, it will invoke a numerical solver to obtain a solution.\n",
      "-------------------------------------------------------------------------------\n",
      "                                  Compilation                                  \n",
      "-------------------------------------------------------------------------------\n",
      "(CVXPY) May 15 01:56:43 PM: Compiling problem (target solver=OSQP).\n",
      "(CVXPY) May 15 01:56:43 PM: Reduction chain: CvxAttr2Constr -> Qp2SymbolicQp -> QpMatrixStuffing -> OSQP\n",
      "(CVXPY) May 15 01:56:43 PM: Applying reduction CvxAttr2Constr\n",
      "(CVXPY) May 15 01:56:43 PM: Applying reduction Qp2SymbolicQp\n",
      "(CVXPY) May 15 01:56:43 PM: Applying reduction QpMatrixStuffing\n",
      "(CVXPY) May 15 01:56:47 PM: Applying reduction OSQP\n",
      "(CVXPY) May 15 01:56:47 PM: Finished problem compilation (took 4.009e+00 seconds).\n",
      "-------------------------------------------------------------------------------\n",
      "                                Numerical solver                               \n",
      "-------------------------------------------------------------------------------\n",
      "(CVXPY) May 15 01:56:47 PM: Invoking solver OSQP  to obtain a solution.\n",
      "-----------------------------------------------------------------\n",
      "           OSQP v0.6.2  -  Operator Splitting QP Solver\n",
      "              (c) Bartolomeo Stellato,  Goran Banjac\n",
      "        University of Oxford  -  Stanford University 2021\n",
      "-----------------------------------------------------------------\n",
      "problem:  variables n = 147537, constraints m = 147951\n",
      "          nnz(P) + nnz(A) = 2952450\n",
      "settings: linear system solver = qdldl,\n",
      "          eps_abs = 1.0e-05, eps_rel = 1.0e-05,\n",
      "          eps_prim_inf = 1.0e-04, eps_dual_inf = 1.0e-04,\n",
      "          rho = 1.00e-01 (adaptive),\n",
      "          sigma = 1.00e-06, alpha = 1.60, max_iter = 10000\n",
      "          check_termination: on (interval 25),\n",
      "          scaling: on, scaled_termination: off\n",
      "          warm start: on, polish: on, time_limit: off\n",
      "\n",
      "iter   objective    pri res    dua res    rho        time\n",
      "   1   0.0000e+00   1.32e+01   1.94e+06   1.00e-01   9.35e-01s\n",
      " 200   1.8805e+03   5.52e-01   1.61e+00   3.02e+00   4.58e+00s\n",
      " 400   1.1085e+04   3.21e-01   4.15e-01   3.02e+00   7.59e+00s\n",
      " 600   1.7316e+04   2.23e-01   1.73e-01   3.02e+00   1.06e+01s\n",
      " 800   3.4031e+04   8.33e-02   1.54e+00   1.56e+01   1.39e+01s\n",
      "1000   4.3074e+04   5.54e-02   4.89e-01   1.56e+01   1.69e+01s\n",
      "1200   4.8699e+04   4.14e-02   3.98e-01   1.56e+01   1.99e+01s\n",
      "1400   5.2532e+04   3.05e-02   1.99e-01   1.56e+01   2.29e+01s\n",
      "1600   5.4973e+04   2.24e-02   1.30e-01   1.56e+01   2.59e+01s\n",
      "1800   5.6616e+04   1.65e-02   8.98e-02   1.56e+01   2.89e+01s\n",
      "2000   5.7742e+04   1.22e-02   6.32e-02   1.56e+01   3.19e+01s\n",
      "2200   5.8525e+04   9.24e-03   4.78e-02   1.56e+01   3.49e+01s\n",
      "2400   5.9079e+04   7.21e-03   3.69e-02   1.56e+01   3.79e+01s\n",
      "2600   5.9475e+04   5.63e-03   2.85e-02   1.56e+01   4.09e+01s\n",
      "2800   5.9762e+04   4.39e-03   2.21e-02   1.56e+01   4.39e+01s\n",
      "3000   5.9973e+04   3.43e-03   1.71e-02   1.56e+01   4.69e+01s\n",
      "3200   6.0128e+04   2.67e-03   1.33e-02   1.56e+01   4.99e+01s\n",
      "3400   6.0244e+04   2.09e-03   1.03e-02   1.56e+01   5.29e+01s\n",
      "3600   6.0331e+04   1.63e-03   8.05e-03   1.56e+01   5.59e+01s\n",
      "3800   6.0397e+04   1.27e-03   6.26e-03   1.56e+01   5.89e+01s\n",
      "4000   6.0446e+04   9.88e-04   4.87e-03   1.56e+01   6.19e+01s\n",
      "4200   6.0484e+04   7.70e-04   3.79e-03   1.56e+01   6.49e+01s\n",
      "4400   6.0513e+04   6.00e-04   2.95e-03   1.56e+01   6.79e+01s\n",
      "4600   6.0535e+04   4.67e-04   2.30e-03   1.56e+01   7.08e+01s\n",
      "4800   6.0552e+04   3.64e-04   1.79e-03   1.56e+01   7.39e+01s\n",
      "5000   6.0565e+04   2.84e-04   1.39e-03   1.56e+01   7.70e+01s\n",
      "5200   6.0575e+04   2.21e-04   1.08e-03   1.56e+01   8.01e+01s\n",
      "5400   6.0583e+04   1.72e-04   8.43e-04   1.56e+01   8.32e+01s\n",
      "5600   6.0588e+04   1.34e-04   6.56e-04   1.56e+01   8.63e+01s\n",
      "5800   6.0593e+04   1.04e-04   5.11e-04   1.56e+01   8.93e+01s\n",
      "6000   6.0597e+04   8.13e-05   3.98e-04   1.56e+01   9.23e+01s\n",
      "6200   6.0599e+04   6.33e-05   3.10e-04   1.56e+01   9.52e+01s\n",
      "6400   6.0602e+04   4.93e-05   2.41e-04   1.56e+01   9.82e+01s\n",
      "6600   6.0603e+04   3.84e-05   1.88e-04   1.56e+01   1.01e+02s\n",
      "6700   6.0604e+04   3.39e-05   1.66e-04   1.56e+01   1.03e+02s\n",
      "plsh   6.0609e+04   1.09e-08   4.84e-10   --------   1.03e+02s\n",
      "\n",
      "status:               solved\n",
      "solution polish:      successful\n",
      "number of iterations: 6700\n",
      "optimal objective:    60608.9472\n",
      "run time:             1.03e+02s\n",
      "optimal rho estimate: 5.13e+01\n",
      "\n",
      "-------------------------------------------------------------------------------\n",
      "                                    Summary                                    \n",
      "-------------------------------------------------------------------------------\n",
      "(CVXPY) May 15 01:58:30 PM: Problem status: optimal\n",
      "(CVXPY) May 15 01:58:30 PM: Optimal value: 6.061e+04\n",
      "(CVXPY) May 15 01:58:30 PM: Compilation took 4.009e+00 seconds\n",
      "(CVXPY) May 15 01:58:30 PM: Solver (including time spent in interface) took 1.034e+02 seconds\n"
     ]
    }
   ],
   "source": [
    "import cvxpy as cp\n",
    "# define symmetic matrix and variable in cvxpy, check: https://stackoverflow.com/questions/70257737/create-matrix-from-vector-cvxpy-variable\n",
    "\n",
    "# assume 9 leaf nodes and only consider time step=1\n",
    "n = node_num\n",
    "\n",
    "S_r = cp.Variable((n,n), symmetric=True)\n",
    "S_x = cp.Variable((n,n), symmetric=True)\n",
    "\n",
    "constraints =[]\n",
    "\n",
    "# constraint: S_r<=0 , S_x<=0 to all its elements in equ(3)\n",
    "for row in range(n):\n",
    "    for col in range(n):\n",
    "        constraints +=[\n",
    "            S_r[row][col] <=0\n",
    "        ]\n",
    "        \n",
    "for row in range(n):\n",
    "    for col in range(n):\n",
    "        constraints +=[\n",
    "            S_x[row][col] <=0\n",
    "        ]\n",
    "        \n",
    "        \n",
    "# constraint: S_(r,ii) <= S_(r,ij) and S_(x,ii) <= S_(x,ij) to all its elements in equ(4)\n",
    "for i in range(n):\n",
    "    constraints += [\n",
    "        n*S_r[i][i] <= cp.sum(S_r[i][:]) # ex: 4*s1 <= s1 + s2 + s3 + s4\n",
    "        ]\n",
    "    \n",
    "for i in range(n):\n",
    "    constraints += [\n",
    "        n*S_x[i][i] <= cp.sum(S_x[i][:]) # ex: 4*s1 <= s1 + s2 + s3 + s4\n",
    "        ]\n",
    "\n",
    "\n",
    "\n",
    "# Build the distance matrix D_r\n",
    "diag_var_r = cp.diag(S_r) # extract the diagnal of S_r\n",
    "S_rjj = cp.vstack([diag_var_r]*n)\n",
    "S_rii = S_rjj.T\n",
    "D_r = 2*S_r - S_rii - S_rjj\n",
    "\n",
    "# Build the distance matrix D_x\n",
    "diag_var_x = cp.diag(S_x) # extract the diagnal of S_r\n",
    "S_xjj = cp.vstack([diag_var_x]*n)\n",
    "S_xii = S_xjj.T\n",
    "D_x = 2*S_x - S_xii - S_xjj\n",
    "\n",
    "\n",
    "# Distance Matrix D_r >=0 to all its elements\n",
    "for i in range(n):\n",
    "    for j in range(n):\n",
    "       constraints += [\n",
    "           D_r[i][j] >=0\n",
    "           ]\n",
    "\n",
    "# Distance Matrix D_x >=0 to all its elements\n",
    "for i in range(n):\n",
    "    for j in range(n):\n",
    "       constraints += [\n",
    "           D_x[i][j] >=0\n",
    "           ]\n",
    "       \n",
    "\n",
    "\n",
    "# Build the A_r matrix\n",
    "A_r = np.eye(n) - (1/n) * np.ones((n,n)) @ D_r @ np.eye(n) - (1/n) * np.ones((n,n))\n",
    "\n",
    "# Build the A_x matrix\n",
    "A_x = np.eye(n) - (1/n) * np.ones((n,n)) @ D_x @ np.eye(n) - (1/n) * np.ones((n,n))\n",
    "\n",
    "# constraint: \n",
    "constraints += [\n",
    "    A_r <= 0,\n",
    "    A_x <=0\n",
    "]\n",
    "\n",
    "\n",
    "## Distance constraint in equ(9) is (--> its not solvable if added)\n",
    "# for i in range(n):\n",
    "#     for j in range(n):\n",
    "#         to_exclude = [i,j]\n",
    "#         for k in range(n):\n",
    "#             if k not in to_exclude:\n",
    "#                 constraints += [\n",
    "#                     D_r[i][j] <= D_r[i][k] + D_r[j][k]\n",
    "#                 ]\n",
    "# for i in range(n):\n",
    "#     for j in range(n):\n",
    "#         to_exclude = [i,j]\n",
    "#         for k in range(n):\n",
    "#             if k not in to_exclude:\n",
    "#                 constraints += [\n",
    "#                     D_x[i][j] <= D_x[i][k] + D_x[j][k]\n",
    "#                 ]\n",
    "                \n",
    "\n",
    "\n",
    "\n",
    "\n",
    "\n",
    "\n",
    "S = cp.hstack([S_r, S_x])\n",
    "\n",
    "objective = cp.Minimize(cp.sum_squares(S @ delta_I - delta_V))\n",
    "prob = cp.Problem(objective, constraints)\n",
    "prob.solve(verbose=True)\n",
    "\n",
    "solution_S = S.value\n",
    "solution_Sr, solution_Sx = out1, out2 = np.hsplit(solution_S, 2)\n"
   ]
  },
  {
   "cell_type": "code",
   "execution_count": 6,
   "metadata": {},
   "outputs": [
    {
     "name": "stdout",
     "output_type": "stream",
     "text": [
      "Sr shape is:\n",
      " (9, 9)\n",
      "Sr is:\n",
      " [[-4.48947039e-01 -1.19461884e-09 -1.49026746e-09 -9.73829655e-02\n",
      "  -2.10655473e-09 -1.43118656e-09 -1.42292903e-01 -5.89871262e-10\n",
      "  -1.34254298e-09]\n",
      " [-1.19461884e-09 -9.88766631e-01 -5.80278172e-10  2.67164314e-09\n",
      "  -1.35739387e-01  9.49635039e-11 -1.32204904e-10 -1.05667823e-01\n",
      "   1.83004356e-11]\n",
      " [-1.49026746e-09 -5.80278172e-10 -4.23568616e-01  2.89683734e-09\n",
      "  -1.06683676e-09 -1.00940795e-01 -8.12318803e-10  4.77907592e-11\n",
      "  -4.99106137e-02]\n",
      " [-9.73829655e-02  2.67164314e-09  2.89683734e-09 -4.84208259e-01\n",
      "   3.00961280e-09  3.05307502e-09 -2.65707282e-01  6.44504591e-09\n",
      "   2.68416707e-09]\n",
      " [-2.10655473e-09 -1.35739387e-01 -1.06683676e-09  3.00961280e-09\n",
      "  -4.96754804e-01 -4.99217061e-10 -9.07209509e-10 -2.71263673e-01\n",
      "  -4.73219922e-10]\n",
      " [-1.43118656e-09  9.49635039e-11 -1.00940795e-01  3.05307502e-09\n",
      "  -4.99217061e-10 -6.03743279e-01 -2.09943247e-10  3.73323583e-10\n",
      "  -2.98163725e-01]\n",
      " [-1.42292903e-01 -1.32204904e-10 -8.12318803e-10 -2.65707282e-01\n",
      "  -9.07209509e-10 -2.09943247e-10 -7.63438514e-01 -4.27052279e-10\n",
      "  -1.18263549e-10]\n",
      " [-5.89871262e-10 -1.05667823e-01  4.77907592e-11  6.44504591e-09\n",
      "  -2.71263673e-01  3.73323583e-10 -4.27052279e-10 -4.88162921e-01\n",
      "   2.45213393e-10]\n",
      " [-1.34254298e-09  1.83004356e-11 -4.99106137e-02  2.68416707e-09\n",
      "  -4.73219922e-10 -2.98163725e-01 -1.18263549e-10  2.45213393e-10\n",
      "  -6.39132476e-01]]\n"
     ]
    }
   ],
   "source": [
    "print(f\"Sr shape is:\\n {S_r.shape}\")\n",
    "print(f\"Sr is:\\n {solution_Sr}\")"
   ]
  },
  {
   "cell_type": "code",
   "execution_count": 7,
   "metadata": {},
   "outputs": [
    {
     "name": "stdout",
     "output_type": "stream",
     "text": [
      "Sx shape is:\n",
      " (9, 9)\n",
      "Sx is:\n",
      " [[-3.55442766e-01 -1.06027578e-09 -1.78875632e-09  5.80748401e-13\n",
      "  -2.21610112e-09 -1.29179324e-09 -2.23065809e-02 -8.73500190e-10\n",
      "  -1.19419593e-09]\n",
      " [-1.06027578e-09 -1.59141841e+00 -7.44856321e-10  3.42061123e-09\n",
      "  -8.89120411e-12  8.95039112e-11 -1.67498740e-10 -2.12810064e-02\n",
      "   1.41460022e-11]\n",
      " [-1.78875632e-09 -7.44856321e-10 -4.01181036e-01  3.72481129e-09\n",
      "  -1.38842629e-09 -2.99032229e-02 -1.04182320e-09  6.81447693e-11\n",
      "  -1.52487311e-01]\n",
      " [ 5.80748401e-13  3.42061123e-09  3.72481129e-09 -3.68531825e-01\n",
      "   3.87920255e-09  3.93271934e-09 -6.81183786e-02  8.91382995e-09\n",
      "   3.44255708e-09]\n",
      " [-2.21610112e-09 -8.89120411e-12 -1.38842629e-09  3.87920255e-09\n",
      "  -3.63136841e-01 -5.78893655e-10 -1.08324853e-09 -4.92358512e-02\n",
      "  -5.26658546e-10]\n",
      " [-1.29179324e-09  8.95039112e-11 -2.99032229e-02  3.93271934e-09\n",
      "  -5.78893655e-10 -3.85033052e-01 -2.51436684e-10  5.40775593e-10\n",
      "  -9.59693793e-02]\n",
      " [-2.23065809e-02 -1.67498740e-10 -1.04182320e-09 -6.81183786e-02\n",
      "  -1.08324853e-09 -2.51436684e-10 -3.77976367e-01 -6.19916361e-10\n",
      "  -1.44143426e-10]\n",
      " [-8.73500190e-10 -2.12810064e-02  6.81447693e-11  8.91382995e-09\n",
      "  -4.92358512e-02  5.40775593e-10 -6.19916361e-10 -3.69217125e-01\n",
      "   3.52148441e-10]\n",
      " [-1.19419593e-09  1.41460022e-11 -1.52487311e-01  3.44255708e-09\n",
      "  -5.26658546e-10 -9.59693793e-02 -1.44143426e-10  3.52148441e-10\n",
      "  -1.34457641e+00]]\n"
     ]
    }
   ],
   "source": [
    "print(f\"Sx shape is:\\n {S_x.shape}\")\n",
    "print(f\"Sx is:\\n {solution_Sx}\")"
   ]
  },
  {
   "cell_type": "code",
   "execution_count": 8,
   "metadata": {},
   "outputs": [
    {
     "data": {
      "text/plain": [
       "array([[0., 0., 0., 0., 0., 0., 0., 0., 0.],\n",
       "       [0., 0., 0., 0., 0., 0., 0., 0., 0.],\n",
       "       [0., 0., 0., 0., 0., 0., 0., 0., 0.],\n",
       "       [0., 0., 0., 0., 0., 0., 0., 0., 0.],\n",
       "       [0., 0., 0., 0., 0., 0., 0., 0., 0.],\n",
       "       [0., 0., 0., 0., 0., 0., 0., 0., 0.],\n",
       "       [0., 0., 0., 0., 0., 0., 0., 0., 0.],\n",
       "       [0., 0., 0., 0., 0., 0., 0., 0., 0.],\n",
       "       [0., 0., 0., 0., 0., 0., 0., 0., 0.]])"
      ]
     },
     "execution_count": 8,
     "metadata": {},
     "output_type": "execute_result"
    }
   ],
   "source": [
    "solution_Sr - solution_Sr.T # check symmetric of S_r"
   ]
  },
  {
   "cell_type": "code",
   "execution_count": 9,
   "metadata": {},
   "outputs": [
    {
     "data": {
      "text/plain": [
       "array([[0., 0., 0., 0., 0., 0., 0., 0., 0.],\n",
       "       [0., 0., 0., 0., 0., 0., 0., 0., 0.],\n",
       "       [0., 0., 0., 0., 0., 0., 0., 0., 0.],\n",
       "       [0., 0., 0., 0., 0., 0., 0., 0., 0.],\n",
       "       [0., 0., 0., 0., 0., 0., 0., 0., 0.],\n",
       "       [0., 0., 0., 0., 0., 0., 0., 0., 0.],\n",
       "       [0., 0., 0., 0., 0., 0., 0., 0., 0.],\n",
       "       [0., 0., 0., 0., 0., 0., 0., 0., 0.],\n",
       "       [0., 0., 0., 0., 0., 0., 0., 0., 0.]])"
      ]
     },
     "execution_count": 9,
     "metadata": {},
     "output_type": "execute_result"
    }
   ],
   "source": [
    "solution_Sx - solution_Sx.T # check symmetric of S_x"
   ]
  },
  {
   "cell_type": "code",
   "execution_count": 13,
   "metadata": {},
   "outputs": [],
   "source": [
    "# save distance matrix for step 2 graph reconstruction\n",
    "np.save('D_r.npy', D_r.value)\n",
    "np.save('D_x.npy', D_x.value)"
   ]
  },
  {
   "cell_type": "markdown",
   "metadata": {},
   "source": [
    "## Recursize Grouping with BackTracking (Section B)"
   ]
  },
  {
   "cell_type": "markdown",
   "metadata": {},
   "source": [
    "- testing...\n",
    "- Graph recursive find shortest path between two nodes:  https://www.python.org/doc/essays/graphs/\n",
    "- check this \"Chou-Liu Algorithm\" for treee topology reconstruction: https://pgmpy.org/examples/Structure%20Learning%20with%20Chow-Liu.html\n",
    "\n",
    "or other implementatino fo chou-Liu Alg at: https://github.com/JohnReid/pybool/blob/master/python/pybool/chow_liu_trees.py\n",
    "\n",
    "or chou-Liu tree at : https://pgmpy.org/structure_estimator/tree.html\n",
    "\n",
    "\n",
    "- Constructing a tree based on a given distance matrix: https://www.kuniga.me/blog/2019/05/10/constructing-trees-from-a-distance-matrix.html\n",
    "\n",
    "- Step by step code building tree from given distance matrix: https://www.tenderisthebyte.com/blog/2022/08/31/neighbor-joining-trees/\n",
    "\n",
    "\n",
    "\n",
    "\n"
   ]
  },
  {
   "cell_type": "markdown",
   "metadata": {},
   "source": [
    "testing below...."
   ]
  },
  {
   "cell_type": "code",
   "execution_count": 19,
   "metadata": {},
   "outputs": [],
   "source": [
    "# # from https://pgmpy.org/structure_estimator/tree.html\n",
    "\n",
    "# import numpy as np\n",
    "# import pandas as pd\n",
    "# import networkx as nx\n",
    "# import matplotlib.pyplot as plt\n",
    "# from pgmpy.estimators import TreeSearch\n",
    "# values = pd.DataFrame(np.random.randint(low=0, high=2, size=(1000, 5)),\n",
    "#                       columns=['A', 'B', 'C', 'D', 'E'])\n",
    "# # est = TreeSearch(values, root_node='B')\n",
    "# # model = est.estimate(estimator_type='chow-liu')\n",
    "# # nx.draw_circular(model, with_labels=True, arrowsize=20, arrowstyle='fancy',\n",
    "# #                  alpha=0.3)\n",
    "# # plt.show()\n",
    "# est = TreeSearch(values)\n",
    "# model = est.estimate(estimator_type='chow-liu')\n",
    "# nx.draw_circular(model, with_labels=True, arrowsize=20, arrowstyle='fancy',\n",
    "#                  alpha=0.3)\n",
    "# plt.show()\n"
   ]
  },
  {
   "cell_type": "markdown",
   "metadata": {},
   "source": [
    "- Neighbor joining tree based on distance matrix referred from https://www.tenderisthebyte.com/blog/2022/08/31/neighbor-joining-trees/"
   ]
  },
  {
   "cell_type": "code",
   "execution_count": null,
   "metadata": {},
   "outputs": [],
   "source": [
    "\n",
    "\n",
    "\n",
    "\n",
    "    "
   ]
  }
 ],
 "metadata": {
  "kernelspec": {
   "display_name": "Python 3 (ipykernel)",
   "language": "python",
   "name": "python3"
  },
  "language_info": {
   "codemirror_mode": {
    "name": "ipython",
    "version": 3
   },
   "file_extension": ".py",
   "mimetype": "text/x-python",
   "name": "python",
   "nbconvert_exporter": "python",
   "pygments_lexer": "ipython3",
   "version": "3.7.12"
  }
 },
 "nbformat": 4,
 "nbformat_minor": 2
}
